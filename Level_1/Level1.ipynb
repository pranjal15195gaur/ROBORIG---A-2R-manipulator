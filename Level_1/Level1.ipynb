{
 "cells": [
  {
   "cell_type": "markdown",
   "metadata": {},
   "source": [
    "## Level 1: Navigating the Cartesian Plane \n",
    "\n",
    "Utilize the programming prowess to command RoboRig to navigate to a specified position on the Cartesian plane. Armed with the knowledge of kinematics, you must guide RoboRig through the intricate pathways of the plane, ensuring it reaches the designated destination flawlessly. The desired destination point on the Cartesian plane must be clearly indicated, allowing easy visualization of the target location. This ensures that participants can accurately assess whether RoboRig's end effector has reached the intended position or not.\n",
    "\n",
    "### Designated Destination\n",
    "(-1.75, 2.0)\n",
    "\n",
    "### Judging Criteria\n",
    "- **Accuracy of Positioning:** 6 points\n",
    "- **Code:** 4 points\n"
   ]
  },
  {
   "cell_type": "code",
   "execution_count": 1,
   "metadata": {},
   "outputs": [
    {
     "data": {
      "image/png": "[encoded data removed]",
      "text/plain": [
       "<Figure size 640x480 with 1 Axes>"
      ]
     },
     "metadata": {},
     "output_type": "display_data"
    }
   ],
   "source": [
    "import numpy as np\n",
    "import matplotlib.pyplot as plt\n",
    "from matplotlib.animation import FuncAnimation\n",
    "\n",
    "# Define the destination coordinate\n",
    "destination = (-1.75, 2)\n",
    "\n",
    "# Define the lengths of the links\n",
    "l1 = 1\n",
    "l2 = 2\n",
    "\n",
    "# Calculate the inverse kinematics to find the joint angles\n",
    "def inverse_kinematics(x, y):\n",
    "    D = (x**2 + y**2 - l1**2 - l2**2) / (2 * l1 * l2)\n",
    "    if -1 <= D <= 1:\n",
    "        theta2 = np.arctan2(np.sqrt(1 - D**2), D)\n",
    "        theta1 = np.arctan2(y, x) - np.arctan2(l2 * np.sin(theta2), l1 + l2 * np.cos(theta2))\n",
    "        return theta1, theta2\n",
    "    else:\n",
    "        raise ValueError(\"Destination point is out of reach\")\n",
    "\n",
    "# Calculate the joint angles for the destination coordinate\n",
    "theta1, theta2 = inverse_kinematics(*destination)\n",
    "\n",
    "# Create the plot\n",
    "fig, ax = plt.subplots()\n",
    "ax.set_xlim(-3, 3)\n",
    "ax.set_ylim(-1, 4)\n",
    "ax.set_aspect('equal', 'box')\n",
    "\n",
    "# Plot the destination coordinate\n",
    "ax.plot(*destination, 'ro', label='Destination')\n",
    "\n",
    "# Plot the initial configuration of the arm\n",
    "x1_init = l1 * np.cos(theta1)\n",
    "y1_init = l1 * np.sin(theta1)\n",
    "x2_init = x1_init + l2 * np.cos(theta1 + theta2)\n",
    "y2_init = y1_init + l2 * np.sin(theta1 + theta2)\n",
    "link1, = ax.plot([0, x1_init], [0, y1_init], 'r-', lw=2)\n",
    "link2, = ax.plot([x1_init, x2_init], [y1_init, y2_init], 'b-', lw=2)\n",
    "\n",
    "plt.legend()\n",
    "plt.show()"
   ]
  },
  {
   "cell_type": "code",
   "execution_count": null,
   "metadata": {},
   "outputs": [],
   "source": []
  }
 ],
 "metadata": {
  "kernelspec": {
   "display_name": "Python 3",
   "language": "python",
   "name": "python3"
  },
  "language_info": {
   "codemirror_mode": {
    "name": "ipython",
    "version": 3
   },
   "file_extension": ".py",
   "mimetype": "text/x-python",
   "name": "python",
   "nbconvert_exporter": "python",
   "pygments_lexer": "ipython3",
   "version": "3.11.1"
  }
 },
 "nbformat": 4,
 "nbformat_minor": 2
}
